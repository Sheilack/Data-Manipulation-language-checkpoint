{
  "nbformat": 4,
  "nbformat_minor": 0,
  "metadata": {
    "colab": {
      "provenance": [],
      "authorship_tag": "ABX9TyPw5rvvb6QdJm6q3d5qKQ8U",
      "include_colab_link": true
    },
    "kernelspec": {
      "name": "python3",
      "display_name": "Python 3"
    },
    "language_info": {
      "name": "python"
    }
  },
  "cells": [
    {
      "cell_type": "markdown",
      "metadata": {
        "id": "view-in-github",
        "colab_type": "text"
      },
      "source": [
        "<a href=\"https://colab.research.google.com/github/Sheilack/Data-Manipulation-language-checkpoint/blob/main/DataframeFilteringandSelection.ipynb\" target=\"_parent\"><img src=\"https://colab.research.google.com/assets/colab-badge.svg\" alt=\"Open In Colab\"/></a>"
      ]
    },
    {
      "cell_type": "code",
      "source": [
        "import pandas as pd\n"
      ],
      "metadata": {
        "id": "nbDSKliZ6ZKI"
      },
      "execution_count": null,
      "outputs": []
    },
    {
      "cell_type": "code",
      "source": [
        "data = {'Name': ['John', 'Mary', 'Bob', 'Sarah', 'Tom', 'Lisa'], 'Department': ['IT', 'Marketing', 'Sales', 'IT', 'Finance', 'Marketing'], 'Age': [30, 40, 25, 35, 45, 28], 'Gender': ['Male', 'Female', 'Male', 'Female', 'Male', 'Female'], 'Salary': [50000, 60000, 45000, 55000, 70000, 55000], 'Experience': [3, 7, 2, 5, 10, 4]}\n",
        "\n",
        "employee_df = pd.DataFrame(data)\n",
        "\n",
        "print(employee_df)"
      ],
      "metadata": {
        "colab": {
          "base_uri": "https://localhost:8080/"
        },
        "id": "5uAlSEj_BB8z",
        "outputId": "bd589f04-9445-44cd-85f8-36fadf54d74b"
      },
      "execution_count": null,
      "outputs": [
        {
          "output_type": "stream",
          "name": "stdout",
          "text": [
            "    Name Department  Age  Gender  Salary  Experience\n",
            "0   John         IT   30    Male   50000           3\n",
            "1   Mary  Marketing   40  Female   60000           7\n",
            "2    Bob      Sales   25    Male   45000           2\n",
            "3  Sarah         IT   35  Female   55000           5\n",
            "4    Tom    Finance   45    Male   70000          10\n",
            "5   Lisa  Marketing   28  Female   55000           4\n"
          ]
        }
      ]
    },
    {
      "cell_type": "code",
      "source": [
        "# Use the iloc method to select the first 3 rows of the dataframe\n",
        "rows = employee_df.iloc[[0, 1, 2]]\n",
        "print(rows)"
      ],
      "metadata": {
        "colab": {
          "base_uri": "https://localhost:8080/"
        },
        "id": "p1lp_JCaBBhP",
        "outputId": "307e980f-4d6a-46c6-f021-03ab8e11bad1"
      },
      "execution_count": null,
      "outputs": [
        {
          "output_type": "stream",
          "name": "stdout",
          "text": [
            "   Name Department  Age  Gender  Salary  Experience\n",
            "0  John         IT   30    Male   50000           3\n",
            "1  Mary  Marketing   40  Female   60000           7\n",
            "2   Bob      Sales   25    Male   45000           2\n"
          ]
        }
      ]
    },
    {
      "cell_type": "code",
      "source": [
        "# Use the loc method to select all rows where the Department is \"Marketing\".\n",
        "subset = employee_df.loc[employee_df['Department'] == \"Marketing\", : ]\n",
        "print(subset)"
      ],
      "metadata": {
        "colab": {
          "base_uri": "https://localhost:8080/"
        },
        "id": "dk_a9lk-B_8H",
        "outputId": "b4aeae18-cc0a-4e4d-cb17-442076bae509"
      },
      "execution_count": null,
      "outputs": [
        {
          "output_type": "stream",
          "name": "stdout",
          "text": [
            "   Name Department  Age  Gender  Salary  Experience\n",
            "1  Mary  Marketing   40  Female   60000           7\n",
            "5  Lisa  Marketing   28  Female   55000           4\n"
          ]
        }
      ]
    },
    {
      "cell_type": "code",
      "source": [
        "# Use the iloc method to select the Age and Gender columns for the first 4 rows of the dataframe.\n",
        "\n",
        "subset=employee_df.iloc[[0, 1, 2, 3],[2, 3]]\n",
        "print(subset)"
      ],
      "metadata": {
        "colab": {
          "base_uri": "https://localhost:8080/"
        },
        "id": "llQhPbanCAXK",
        "outputId": "cb4ca57e-a712-4b01-b384-fdeb3c561246"
      },
      "execution_count": null,
      "outputs": [
        {
          "output_type": "stream",
          "name": "stdout",
          "text": [
            "   Age  Gender\n",
            "0   30    Male\n",
            "1   40  Female\n",
            "2   25    Male\n",
            "3   35  Female\n"
          ]
        }
      ]
    },
    {
      "cell_type": "code",
      "source": [
        "# Use the loc method to select the Salary and Experience columns for all rows where the Gender is \"Male\".\n",
        "\n",
        "filtered_data = employee_df.loc[employee_df['Gender'] == 'Male', ['Salary', 'Experience']]\n",
        "print(filtered_data)"
      ],
      "metadata": {
        "colab": {
          "base_uri": "https://localhost:8080/"
        },
        "id": "Ze0EIMIvCA62",
        "outputId": "b99eb0a0-6877-4235-d0f8-ef71adc4831f"
      },
      "execution_count": null,
      "outputs": [
        {
          "output_type": "stream",
          "name": "stdout",
          "text": [
            "   Salary  Experience\n",
            "0   50000           3\n",
            "2   45000           2\n",
            "4   70000          10\n"
          ]
        }
      ]
    },
    {
      "cell_type": "markdown",
      "source": [
        "Dataframe loc/iloc;\n",
        "Dataframe loc The loc() method allows us to extract rows and columns by labeled index.\n",
        "\n",
        "Dataframe iloc The iloc() follows the same rules as loc(). It extracts rows and columns by selecting indexes."
      ],
      "metadata": {
        "id": "oZR3qQKj5-r1"
      }
    },
    {
      "cell_type": "markdown",
      "source": [
        "Pandas is a Python library for data manipulation and analysis. It provides two primary data structures: Series (a one-dimensional array-like object) and DataFrame (a two-dimensional tabular data structure). Pandas allows for data cleaning, preprocessing, merging, grouping, and filtering, and can handle missing data. Some common operations in Pandas include selecting and indexing data, computing summary statistics, and merging multiple data sources. With its powerful and flexible tools for data analysis, Pandas has become an essential tool for working with structured data in Python."
      ],
      "metadata": {
        "id": "lRDvKbT97H8o"
      }
    }
  ]
}